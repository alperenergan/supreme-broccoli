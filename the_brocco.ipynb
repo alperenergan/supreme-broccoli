{
 "cells": [
  {
   "cell_type": "code",
   "execution_count": 1,
   "id": "a36f2157-d085-4197-be6b-666a9680743f",
   "metadata": {},
   "outputs": [],
   "source": [
    "import numpy as np\n",
    "import matplotlib.pyplot as plt\n",
    "from matplotlib.collections import PolyCollection"
   ]
  },
  {
   "cell_type": "code",
   "execution_count": 2,
   "id": "c20913f2-a077-4706-b7bd-3917a9389518",
   "metadata": {},
   "outputs": [],
   "source": [
    "V, F = [], []\n",
    "with open(\"brocco.obj\") as f:\n",
    "   for line in f.readlines():\n",
    "       if line.startswith('#'):\n",
    "           continue\n",
    "       values = line.split()\n",
    "       if not values:\n",
    "           continue\n",
    "       if values[0] == 'v':\n",
    "           V.append([float(x) for x in values[1:4]])\n",
    "       elif values[0] == 'f':\n",
    "           F.append([int(x.split('/')[0]) for x in values[1:4]])\n",
    "V, F = np.array(V), np.array(F)-1"
   ]
  },
  {
   "cell_type": "code",
   "execution_count": 3,
   "id": "cf3cd925-b2ea-4bef-a427-9eb538af069b",
   "metadata": {},
   "outputs": [],
   "source": [
    "V = (V-(V.max(0)+V.min(0))/2)/max(V.max(0)-V.min(0))"
   ]
  },
  {
   "cell_type": "code",
   "execution_count": 4,
   "id": "18a2e34a-5c04-4dba-8dd2-cb93817ddd2e",
   "metadata": {},
   "outputs": [],
   "source": [
    "T = V[F][...,:2]"
   ]
  },
  {
   "cell_type": "code",
   "execution_count": 5,
   "id": "7070f508-ace2-4cc0-9074-05b6ac3a7da0",
   "metadata": {},
   "outputs": [],
   "source": [
    "def show_brocco():\n",
    "    fig = plt.figure(figsize=(6,6))\n",
    "    ax = fig.add_axes([0,0,1,1], xlim=[-1,+1], ylim=[-1,+1],\n",
    "                      aspect=1, frameon=False)\n",
    "    collection = PolyCollection(T, closed=True, linewidth=0.1,\n",
    "                                facecolor=\"None\", edgecolor=\"black\")\n",
    "    ax.set_xticks([])\n",
    "    ax.set_yticks([])\n",
    "    ax.add_collection(collection)\n",
    "    plt.show()"
   ]
  },
  {
   "cell_type": "code",
   "execution_count": 6,
   "id": "1b5a364b-f869-4364-b57c-3680e239e7b5",
   "metadata": {},
   "outputs": [],
   "source": [
    "def frustum(left, right, bottom, top, znear, zfar):\n",
    "    M = np.zeros((4, 4), dtype=np.float32)\n",
    "    M[0, 0] = +2.0 * znear / (right - left)\n",
    "    M[1, 1] = +2.0 * znear / (top - bottom)\n",
    "    M[2, 2] = -(zfar + znear) / (zfar - znear)\n",
    "    M[0, 2] = (right + left) / (right - left)\n",
    "    M[2, 1] = (top + bottom) / (top - bottom)\n",
    "    M[2, 3] = -2.0 * znear * zfar / (zfar - znear)\n",
    "    M[3, 2] = -1.0\n",
    "    return M\n",
    "\n",
    "def perspective(fovy, aspect, znear, zfar):\n",
    "    h = np.tan(0.5*np.radians(fovy)) * znear\n",
    "    w = h * aspect\n",
    "    return frustum(-w, w, -h, h, znear, zfar)"
   ]
  },
  {
   "cell_type": "code",
   "execution_count": 7,
   "id": "7f2b7175-a9eb-4b49-a37a-1a3e1680e768",
   "metadata": {},
   "outputs": [],
   "source": [
    "#V = V - (0,0,3.5)\n",
    "#V = np.c_[V, np.ones(len(V))] @ perspective(25,1,1,100).T\n",
    "#V /= V[:,3].reshape(-1,1)"
   ]
  },
  {
   "cell_type": "code",
   "execution_count": 8,
   "id": "eb9a800a-cf6c-49ce-8010-6df4aaa3a1ad",
   "metadata": {},
   "outputs": [],
   "source": [
    "def translate(x, y, z):\n",
    "    return np.array([[1, 0, 0, x],\n",
    "                     [0, 1, 0, y],\n",
    "                     [0, 0, 1, z],\n",
    "                     [0, 0, 0, 1]], dtype=float)\n",
    "\n",
    "def xrotate(theta):\n",
    "    t = np.pi * theta / 180\n",
    "    c, s = np.cos(t), np.sin(t)\n",
    "    return np.array([[1, 0,  0, 0],\n",
    "                     [0, c, -s, 0],\n",
    "                     [0, s,  c, 0],\n",
    "                     [0, 0,  0, 1]], dtype=float)\n",
    "\n",
    "def yrotate(theta):\n",
    "    t = np.pi * theta / 180\n",
    "    c, s = np.cos(t), np.sin(t)\n",
    "    return  np.array([[ c, 0, s, 0],\n",
    "                      [ 0, 1, 0, 0],\n",
    "                      [-s, 0, c, 0],\n",
    "                      [ 0, 0, 0, 1]], dtype=float)"
   ]
  },
  {
   "cell_type": "code",
   "execution_count": 9,
   "id": "67799925-73f2-4cd8-99b4-a8a2b872d950",
   "metadata": {},
   "outputs": [],
   "source": [
    "model = xrotate(20) @ yrotate(45)\n",
    "view  = translate(0,0,-3.5)\n",
    "proj  = perspective(25, 1, 1, 100)\n",
    "MVP   = proj  @ view  @ model"
   ]
  },
  {
   "cell_type": "code",
   "execution_count": 10,
   "id": "c988435e-a62e-4530-8a53-17af567f5a13",
   "metadata": {},
   "outputs": [
    {
     "ename": "IndexError",
     "evalue": "too many indices for array: array is 2-dimensional, but 3 were indexed",
     "output_type": "error",
     "traceback": [
      "\u001b[1;31m---------------------------------------------------------------------------\u001b[0m",
      "\u001b[1;31mIndexError\u001b[0m                                Traceback (most recent call last)",
      "Cell \u001b[1;32mIn[13], line 1\u001b[0m\n\u001b[1;32m----> 1\u001b[0m T \u001b[38;5;241m=\u001b[39m  \u001b[43mV\u001b[49m\u001b[43m[\u001b[49m\u001b[43m:\u001b[49m\u001b[43m,\u001b[49m\u001b[43m:\u001b[49m\u001b[43m,\u001b[49m\u001b[43m:\u001b[49m\u001b[38;5;241;43m2\u001b[39;49m\u001b[43m]\u001b[49m\n\u001b[0;32m      2\u001b[0m Z \u001b[38;5;241m=\u001b[39m \u001b[38;5;241m-\u001b[39mV[:,:,\u001b[38;5;241m2\u001b[39m]\u001b[38;5;241m.\u001b[39mmean(axis\u001b[38;5;241m=\u001b[39m\u001b[38;5;241m1\u001b[39m)\n\u001b[0;32m      3\u001b[0m I \u001b[38;5;241m=\u001b[39m np\u001b[38;5;241m.\u001b[39margsort(Z)\n",
      "\u001b[1;31mIndexError\u001b[0m: too many indices for array: array is 2-dimensional, but 3 were indexed"
     ]
    }
   ],
   "source": [
    "T =  V[:,:,:2]\n",
    "Z = -V[:,:,2].mean(axis=1)\n",
    "I = np.argsort(Z)\n",
    "T = T[I,:]"
   ]
  },
  {
   "cell_type": "code",
   "execution_count": 11,
   "id": "e9169bbc-f5e4-4d22-a7d3-ab190d78b1c1",
   "metadata": {},
   "outputs": [
    {
     "data": {
      "text/plain": [
       "array([[-0.20237535,  0.4070471 , -0.15220555],\n",
       "       [-0.12185466,  0.39247074, -0.21505584],\n",
       "       [-0.19770595,  0.31051999, -0.31994937],\n",
       "       ...,\n",
       "       [ 0.06619184,  0.42049118, -0.23268727],\n",
       "       [ 0.05850207,  0.4265306 , -0.1740238 ],\n",
       "       [ 0.06567441,  0.42707767, -0.17809543]])"
      ]
     },
     "execution_count": 11,
     "metadata": {},
     "output_type": "execute_result"
    }
   ],
   "source": [
    "V"
   ]
  },
  {
   "cell_type": "code",
   "execution_count": null,
   "id": "28a9a435-b079-4b8e-93e7-19ec046d38d2",
   "metadata": {},
   "outputs": [],
   "source": []
  }
 ],
 "metadata": {
  "kernelspec": {
   "display_name": "Python 3 (ipykernel)",
   "language": "python",
   "name": "python3"
  },
  "language_info": {
   "codemirror_mode": {
    "name": "ipython",
    "version": 3
   },
   "file_extension": ".py",
   "mimetype": "text/x-python",
   "name": "python",
   "nbconvert_exporter": "python",
   "pygments_lexer": "ipython3",
   "version": "3.10.12"
  }
 },
 "nbformat": 4,
 "nbformat_minor": 5
}
